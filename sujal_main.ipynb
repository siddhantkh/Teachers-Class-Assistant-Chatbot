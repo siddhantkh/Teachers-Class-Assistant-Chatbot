{
 "cells": [
  {
   "cell_type": "code",
   "execution_count": null,
   "id": "9ed2a8bd",
   "metadata": {},
   "outputs": [],
   "source": [
    "def greet(name=\"Friend\"):\n",
    "    print(f\"Hello {name}, How are you today?\")\n",
    "\n",
    "def add_numbers(x, y):\n",
    "    return x + y\n",
    "\n",
    "class Animal:\n",
    "    def __init__(self, name, species, age):\n",
    "        self.name = name\n",
    "        self.species = species\n",
    "        self.age = age\n",
    "    \n",
    "    def introduce(self):\n",
    "        print(f\"Hi! I'm {self.name}, a {self.species}, and I'm {self.age} years old.\")\n",
    "    \n",
    "    def make_sound(self):\n",
    "        print(f\"{self.name} makes a sound!\")\n",
    "\n",
    "class Dog(Animal):\n",
    "    def __init__(self, name, age, breed):\n",
    "        self.breed = breed\n",
    "        super().__init__(name, \"Dog\", age)\n",
    "    \n",
    "    def make_sound(self):\n",
    "        print(f\"{self.name} barks: Woof! Woof!\")\n",
    "    \n",
    "    def introduce(self):\n",
    "        super().introduce()\n",
    "        print(f\"I'm a {self.breed} breed.\")\n",
    "\n",
    "class Cat(Animal):\n",
    "    def __init__(self, name, age, color):\n",
    "        self.color = color\n",
    "        super().__init__(name, \"Cat\", age)\n",
    "    \n",
    "    def make_sound(self):\n",
    "        print(f\"{self.name} meows: Meow! Meow!\")\n",
    "    \n",
    "    def introduce(self):\n",
    "        super().introduce()\n",
    "        print(f\"I have {self.color} fur.\")"
   ]
  },
  {
   "cell_type": "code",
   "execution_count": 3,
   "id": "9e6591e5",
   "metadata": {},
   "outputs": [
    {
     "name": "stdout",
     "output_type": "stream",
     "text": [
      "Hello Friend, How are you today?\n",
      "Hello Alice, How are you today?\n",
      "Sum of 5 and 3: 8\n",
      "Hi! I'm Buddy, a Generic Animal, and I'm 3 years old.\n",
      "Buddy makes a sound!\n",
      "Hi! I'm Max, a Dog, and I'm 2 years old.\n",
      "I'm a Golden Retriever breed.\n",
      "Max barks: Woof! Woof!\n",
      "Hi! I'm Luna, a Cat, and I'm 1 years old.\n",
      "I have black fur.\n",
      "Luna meows: Meow! Meow!\n"
     ]
    }
   ],
   "source": [
    "# Testing our functions\n",
    "greet()\n",
    "greet(\"Alice\")\n",
    "\n",
    "print(f\"Sum of 5 and 3: {add_numbers(5, 3)}\")\n",
    "\n",
    "\n",
    "animal1 = Animal(\"Buddy\", \"Generic Animal\", 3)\n",
    "animal1.introduce()\n",
    "animal1.make_sound()\n",
    "\n",
    "my_dog = Dog(\"Max\", 2, \"Golden Retriever\")\n",
    "my_dog.introduce()\n",
    "my_dog.make_sound()\n",
    "\n",
    "my_cat = Cat(\"Luna\", 1, \"black\")\n",
    "my_cat.introduce()\n",
    "my_cat.make_sound()"
   ]
  }
 ],
 "metadata": {
  "kernelspec": {
   "display_name": "Python 3",
   "language": "python",
   "name": "python3"
  },
  "language_info": {
   "codemirror_mode": {
    "name": "ipython",
    "version": 3
   },
   "file_extension": ".py",
   "mimetype": "text/x-python",
   "name": "python",
   "nbconvert_exporter": "python",
   "pygments_lexer": "ipython3",
   "version": "3.12.7"
  }
 },
 "nbformat": 4,
 "nbformat_minor": 5
}
