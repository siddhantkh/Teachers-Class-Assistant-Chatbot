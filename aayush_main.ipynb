{
 "cells": [
  {
   "cell_type": "code",
   "execution_count": 19,
   "id": "9ed2a8bd",
   "metadata": {},
   "outputs": [],
   "source": [
    "def greet():\n",
    "    print(\"Hello , How are you ?\")\n",
    "\n",
    "def find_max(a,b):\n",
    "    return a if a>b else b\n",
    "\n",
    "class Vehicle:\n",
    "    def __init__(self,name,type,model):\n",
    "        self.name = name\n",
    "        self.type = type\n",
    "        self.model = model\n",
    "    \n",
    "    def info(self):\n",
    "        print(f\"Name:{self.name}\\nType:{self.type}\\nModel:{self.model}\")\n",
    "\n",
    "\n",
    "class Car(Vehicle):\n",
    "    type = \"car\"\n",
    "    def __init__(self, name, model,fuel_type,category):\n",
    "        self.fuel_type = fuel_type\n",
    "        self.category  = category\n",
    "        super().__init__(name, Car.type, model)\n",
    "\n",
    "    def info(self):\n",
    "        super().info()\n",
    "        print(f\"Fuel Type:{self.fuel_type}\\nCategory: {self.category}\")\n",
    "\n",
    "class Truck(Vehicle):\n",
    "    type = \"truck\"\n",
    "    \n",
    "    def __init__(self, name, model,fuel_type,category):\n",
    "        self.fuel_type = fuel_type\n",
    "        self.category  = category\n",
    "        super().__init__(name, Truck.type, model)\\\n",
    "    \n",
    "    def info(self):\n",
    "        super().info()\n",
    "        print(f\"Fuel Type:{self.fuel_type}\\nCategory: {self.category}\")"
   ]
  },
  {
   "cell_type": "code",
   "execution_count": 21,
   "id": "9e6591e5",
   "metadata": {},
   "outputs": [
    {
     "name": "stdout",
     "output_type": "stream",
     "text": [
      "Calling greet() function:\n",
      "Hello , How are you ?\n",
      "8\n",
      "Name:Tata Nexon\n",
      "Type:car\n",
      "Model:400\n",
      "Name:LandRower RangeRower\n",
      "Type:car\n",
      "Model:401\n",
      "Fuel Type:petrol\n",
      "Category: personal\n"
     ]
    }
   ],
   "source": [
    "# Using the greet() function from the previous cell\n",
    "print(\"Calling greet() function:\")\n",
    "greet()\n",
    "\n",
    "print(find_max(4,8))\n",
    "\n",
    "car = Vehicle(\"Tata Nexon\",\"car\",\"400\")\n",
    "car.info()\n",
    "range_rower = Car(\"LandRower RangeRower\",\"401\",\"petrol\",\"personal\")\n",
    "range_rower.info()\n"
   ]
  }
 ],
 "metadata": {
  "kernelspec": {
   "display_name": "Python 3",
   "language": "python",
   "name": "python3"
  },
  "language_info": {
   "codemirror_mode": {
    "name": "ipython",
    "version": 3
   },
   "file_extension": ".py",
   "mimetype": "text/x-python",
   "name": "python",
   "nbconvert_exporter": "python",
   "pygments_lexer": "ipython3",
   "version": "3.12.7"
  }
 },
 "nbformat": 4,
 "nbformat_minor": 5
}
