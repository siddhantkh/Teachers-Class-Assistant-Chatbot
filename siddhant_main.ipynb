{
 "cells": [
  {
   "cell_type": "code",
   "execution_count": null,
   "id": "24af4d6b",
   "metadata": {},
   "outputs": [],
   "source": [
    "def greet(name=\"Friend\"):\n",
    "    print(f\"Hello {name}, How are you today?\")\n",
    "\n",
    "def add_numbers(x, y):\n",
    "    return x + y\n",
    "\n",
    "class Animal:\n",
    "    def __init__(self, name, species, age):\n",
    "        self.name = name\n",
    "        self.species = species\n",
    "        self.age = age\n",
    "    \n",
    "    def introduce(self):\n",
    "        print(f\"Hi! I'm {self.name}, a {self.species}, and I'm {self.age} years old.\")\n",
    "    \n",
    "    def make_sound(self):\n",
    "        print(f\"{self.name} makes a sound!\")\n",
    "\n",
    "class Dog(Animal):\n",
    "    def __init__(self, name, age, breed):\n",
    "        self.breed = breed\n",
    "        super().__init__(name, \"Dog\", age)\n",
    "    \n",
    "    def make_sound(self):\n",
    "        print(f\"{self.name} barks: Woof! Woof!\")\n",
    "    \n",
    "    def introduce(self):\n",
    "        super().introduce()\n",
    "        print(f\"I'm a {self.breed} breed.\")\n",
    "\n",
    "class Cat(Animal):\n",
    "    def __init__(self, name, age, color):\n",
    "        self.color = color\n",
    "        super().__init__(name, \"Cat\", age)\n",
    "    \n",
    "    def make_sound(self):\n",
    "        print(f\"{self.name} meows: Meow! Meow!\")\n",
    "    \n",
    "    def introduce(self):\n",
    "        super().introduce()\n",
    "        print(f\"I have {self.color} fur.\")"
   ]
  },
  {
   "cell_type": "code",
   "execution_count": null,
   "id": "48f02e8f",
   "metadata": {},
   "outputs": [],
   "source": [
    "greet()\n",
    "greet(\"Siddhant\")\n",
    "\n",
    "print(f\"Sum of 5 and 3: {add_numbers(5, 3)}\")\n",
    "\n",
    "animal1 = Animal(\"Buddy\", \"Generic Animal\", 3)\n",
    "animal1.introduce()\n",
    "animal1.make_sound()\n",
    "\n",
    "my_dog = Dog(\"Max\", 2, \"Golden Retriever\")\n",
    "my_dog.introduce()\n",
    "my_dog.make_sound()\n",
    "\n",
    "my_cat = Cat(\"Luna\", 1, \"black\")\n",
    "my_cat.introduce()\n",
    "my_cat.make_sound()"
   ]
  }
 ],
 "metadata": {
  "language_info": {
   "name": "python"
  }
 },
 "nbformat": 4,
 "nbformat_minor": 5
}
